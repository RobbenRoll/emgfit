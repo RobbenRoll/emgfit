{
  "cells": [
    {
      "cell_type": "code",
      "execution_count": null,
      "metadata": {
        "collapsed": false
      },
      "outputs": [],
      "source": [
        "%matplotlib inline"
      ]
    },
    {
      "cell_type": "markdown",
      "metadata": {},
      "source": [
        "\nTutorial\n========\n"
      ]
    },
    {
      "cell_type": "code",
      "execution_count": null,
      "metadata": {
        "collapsed": false
      },
      "outputs": [],
      "source": [
        "import emgfit as emg\n### Import mass data, plot full spectrum and choose fit range\nfilename = \"2019-09-13_004-_006 SUMMED High stats 62Ga\" # input file (as exported with MAc's hist-mode)\nskiprows = 38 # number of header rows to skip upon data import\nm_start = 61.9243 # low-mass cut off\nm_stop = 61.962 # high-mass cut off\nspec = emg.spectrum(filename+'.txt',m_start,m_stop,skiprows=skiprows)"
      ]
    }
  ],
  "metadata": {
    "kernelspec": {
      "display_name": "Python 3",
      "language": "python",
      "name": "python3"
    },
    "language_info": {
      "codemirror_mode": {
        "name": "ipython",
        "version": 3
      },
      "file_extension": ".py",
      "mimetype": "text/x-python",
      "name": "python",
      "nbconvert_exporter": "python",
      "pygments_lexer": "ipython3",
      "version": "3.8.2"
    }
  },
  "nbformat": 4,
  "nbformat_minor": 0
}