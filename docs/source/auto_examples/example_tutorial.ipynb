{
  "cells": [
    {
      "cell_type": "code",
      "execution_count": null,
      "metadata": {
        "collapsed": false
      },
      "outputs": [],
      "source": [
        "%matplotlib inline"
      ]
    },
    {
      "cell_type": "markdown",
      "metadata": {},
      "source": [
        "\nTutorial\n========\n\nThis tutorial notebook gives a basic example of the workflow with emgfit. This\nnotebook can serve as a template for fitting your own spectra. Feel free to\nremove any of the comments and adapt this to your own needs.\n"
      ]
    },
    {
      "cell_type": "code",
      "execution_count": null,
      "metadata": {
        "collapsed": false
      },
      "outputs": [],
      "source": [
        "import emgfit as emg\n\n### Import mass data, plot full spectrum and choose fit range\nfilename = \"2019-09-13_004-_006 SUMMED High stats 62Ga\" # input file (as exported with MAc's hist-mode)\nskiprows = 38 # number of header rows to skip upon data import\nm_start = 61.9243 # low-mass cut off\nm_stop = 61.962 # high-mass cut off\nspec = emg.spectrum(filename+'.txt',m_start,m_stop,skiprows=skiprows)"
      ]
    },
    {
      "cell_type": "markdown",
      "metadata": {},
      "source": [
        "Adding peaks to the spectrum\n----------------------------\nThis can be done with the automatic peak detection (:meth:`detect_peaks`\nmethod) and/or by manually adding peaks (:meth:add_peak method).\n\nAll info about the peaks is compiled in the peak properties table. The table's\nleft-most column shows the respective peak indeces. The peaks' `x_pos` will be\nused as initial values for the (Gaussian) peak centroids in fits.\n\n"
      ]
    },
    {
      "cell_type": "code",
      "execution_count": null,
      "metadata": {
        "collapsed": false
      },
      "outputs": [],
      "source": [
        "### Detect peaks and add them to spectrum object 'spec'\nspec.detect_peaks() # automatic peak detection\n#spec.add_peak(61.925,species='?') # manually add a peak at x_pos = 61.925u\n#spec.remove_peak(peak_index=0) # manually remove the peak with index 0"
      ]
    },
    {
      "cell_type": "markdown",
      "metadata": {},
      "source": [
        "Assign the identified species to the peaks and add comments (OPTIONAL)\n----------------------------------------------------------------------\n\n"
      ]
    },
    {
      "cell_type": "code",
      "execution_count": null,
      "metadata": {
        "collapsed": false
      },
      "outputs": [],
      "source": [
        "spec.assign_species(['Ni62:-1e','Cu62:-1e',None,'Ga62:-1e','Ti46:O16:-1e',\n                     'Sc46:O16:-1e','Ca43:F19:-1e',None])\nspec.add_peak_comment('Non-isobaric',peak_index=2)\nspec.show_peak_properties() # check the changes by printing the peak properties table"
      ]
    },
    {
      "cell_type": "markdown",
      "metadata": {},
      "source": [
        "Select the optimal Hyper-EMG tail order and perform the peak-shape calibration\n ------------------------------------------------------------------------------\nIt is recommended that the peak-shape calibration is done with a chi-squared\n fit (default) since this yields more robust results and more trusworthy\n parameter uncertainty estimates.\n\n"
      ]
    },
    {
      "cell_type": "code",
      "execution_count": null,
      "metadata": {
        "collapsed": false
      },
      "outputs": [],
      "source": [
        "#spec.determine_peak_shape(species_shape_calib='Ca43:F19:-1e') # default settings and automatic model selection\nspec.determine_peak_shape(species_shape_calib='Ca43:F19:-1e',x_fit_range=0.0045) # user-defined fit range\n#spec.determine_peak_shape(species_shape_calib='Ca43:F19:-1e',fit_model='emg12',vary_tail_order=False) # user-defined model"
      ]
    },
    {
      "cell_type": "markdown",
      "metadata": {},
      "source": [
        "Determine constant of proportionality A_stat_emg for subsequent stat. error estimations (OPTIONAL, feel free to skip this)\n--------------------------------------------------------------------------------------------------------------------------\nThe statistical uncertainties of Hyper-EMG fits are estimated using the\nequation:\n$\\sigma_{stat} = A_{stat,emg} \\cdot \\frac{\\mathrm{FWHM}}{\\sqrt{N_{counts}}}$\nwhere $\\mathrm{FWHM}$ and $N_{counts}$ refer to the full width at half\nmaximum and the number of counts in the respective peak. This method will\ntypically run for ~10 minutes if N_spetra=1000 (default) is used.\nIf this step is skipped, the default value $A_{stat,emg} = 0.52$ will be used.\nOptionally, the plot can be saved by using the `plot_filename` argument.\n\n"
      ]
    },
    {
      "cell_type": "code",
      "execution_count": null,
      "metadata": {
        "collapsed": false
      },
      "outputs": [],
      "source": [
        "# Determine A_stat_emg and save the resulting plot\nspec.determine_A_stat_emg(species='Ca43:F19:-1e',x_range=0.004,N_spectra=10)"
      ]
    },
    {
      "cell_type": "markdown",
      "metadata": {},
      "source": [
        "Fit all peaks in spectrum, perform mass (re-)calibration, determine\npeak-shape uncertainties and update peak properties table with the results\nThe simultaneous mass recalibration is invoked by specifying the\n`species_mass_calib` (or alternatively the `index_mass_calib`) argument\n\n"
      ]
    },
    {
      "cell_type": "code",
      "execution_count": null,
      "metadata": {
        "collapsed": false
      },
      "outputs": [],
      "source": [
        "# Maximum likelihood fit of all peaks in the spectrum\nspec.fit_peaks(species_mass_calib='Ti46:O16:-1e')\n# Alternative: Fit restricted to a user-defined mass range\n#spec.fit_peaks(species_mass_calib='Ti46:O16:-1e',x_fit_cen=61.9455,x_fit_range=0.01)"
      ]
    }
  ],
  "metadata": {
    "kernelspec": {
      "display_name": "Python 3",
      "language": "python",
      "name": "python3"
    },
    "language_info": {
      "codemirror_mode": {
        "name": "ipython",
        "version": 3
      },
      "file_extension": ".py",
      "mimetype": "text/x-python",
      "name": "python",
      "nbconvert_exporter": "python",
      "pygments_lexer": "ipython3",
      "version": "3.8.2"
    }
  },
  "nbformat": 4,
  "nbformat_minor": 0
}