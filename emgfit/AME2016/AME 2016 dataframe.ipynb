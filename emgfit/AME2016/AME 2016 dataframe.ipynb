{
 "cells": [
  {
   "cell_type": "markdown",
   "metadata": {},
   "source": [
    "## Search AME2016 database\n",
    "## Import AME database as pandas dataframe"
   ]
  },
  {
   "cell_type": "code",
   "execution_count": null,
   "metadata": {},
   "outputs": [],
   "source": [
    "import numpy as np\n",
    "import pandas as pd\n",
    "import fortranformat as ff\n",
    "import matplotlib as plt\n",
    "import mpmath as mp\n",
    "%matplotlib inline\n",
    "\n",
    "#AME = pd.read_table('ame16.txt',skiprows=37,delim_whitespace=True,error_bad_lines=False)\n",
    "#AME\n",
    "\n",
    "df = pd.read_csv('ame16.txt',sep=\"\\t\",skiprows=38)\n",
    "#df"
   ]
  },
  {
   "cell_type": "markdown",
   "metadata": {},
   "source": [
    "## Create AME dataframe in appropriate formatting"
   ]
  },
  {
   "cell_type": "code",
   "execution_count": null,
   "metadata": {},
   "outputs": [],
   "source": [
    "arr_AME = []\n",
    "line = ff.FortranRecordReader('a1,A3,A5,A5,A5,1x,A3,A4,1x,A13,A11,A11,A9,1x,A2,A11,A9,1x,A3,1x,A12,A12')\n",
    "for i in range(len(df)):\n",
    "    row = line.read(str(df.iloc[i].values[0])) \n",
    "    #print(i, [row])\n",
    "    arr_AME += [row]\n",
    "    #nucl = record._make(line.read(line))\n",
    "arr_AME = np.array(arr_AME) \n",
    "\n",
    "df_AME = pd.DataFrame(arr_AME)\n",
    "df_AME.columns = columns=['0','N-Z','N','Z','A','Element','O','ME [keV]','Error ME [keV]','BINDING ENERGY/A [keV]','Error BINDING ENERGY/A [keV]','Decay type','BETA-DECAY ENERGY [keV]','Error BETA-DECAY ENERGY [keV]','Mass_int','ATOMIC MASS [µu]','Error ATOMIC MASS [µu]']\n",
    "# remove unnecessary columns\n",
    "df_AME.drop(['0'],axis=1,inplace=True) \n",
    "df_AME.drop('Decay type', axis=1, inplace=True)\n",
    "df_AME.drop('BETA-DECAY ENERGY [keV]', axis=1, inplace=True)\n",
    "df_AME.drop('Error BETA-DECAY ENERGY [keV]', axis=1, inplace=True)\n",
    "mask = df_AME['ME [keV]'].str.contains('#') # series containing 'True' if mass excess value has a '#'\n",
    "df_AME['Extrapolated?'] = mask\n",
    "\n",
    "# Format column data\n",
    "df_AME.A = df_AME.A.astype(int)\n",
    "df_AME['N-Z'] = df_AME['N-Z'].astype(int)\n",
    "df_AME.N = df_AME.N.astype(int)\n",
    "df_AME.Z = df_AME.Z.astype(int)\n",
    "df_AME['Element'] = df_AME['Element'].str.strip()\n",
    "\n",
    "# Remove '#'s from mass data and change data types to float\n",
    "df_AME['ME [keV]'] = df_AME['ME [keV]'].str.replace('#', '').astype(float)\n",
    "df_AME['Error ME [keV]'] = df_AME['Error ME [keV]'].str.replace('#', '').astype(float)\n",
    "df_AME['BINDING ENERGY/A [keV]'] = df_AME['BINDING ENERGY/A [keV]'].str.replace('#', '').astype(float)\n",
    "df_AME['Error BINDING ENERGY/A [keV]'] = df_AME['Error BINDING ENERGY/A [keV]'].str.replace('#', '').astype(float)\n",
    "df_AME['ATOMIC MASS [µu]'] = df_AME['ATOMIC MASS [µu]'].str.replace('#', '').astype(np.float64) \n",
    "df_AME['Mass_int'] = df_AME['Mass_int'].astype(int) \n",
    "df_AME['ATOMIC MASS [µu]'] = df_AME['ATOMIC MASS [µu]'] + df_AME['Mass_int']*1e06   # calculate full mass value\n",
    "df_AME.drop(['Mass_int'],axis=1,inplace=True) \n",
    "df_AME['Error ATOMIC MASS [µu]'] = df_AME['Error ATOMIC MASS [µu]'].str.replace('#', '').astype(float)\n",
    "\n",
    "\n",
    "df_AME.set_index(['A'],inplace=True) # set mass number as index\n",
    "# Output dataframe to .csv\n",
    "#df_AME.to_csv('AME2016.csv',float_format='%.5f')\n",
    "\n",
    "df_AME"
   ]
  }
 ],
 "metadata": {
  "anaconda-cloud": {},
  "kernelspec": {
   "display_name": "Python 3",
   "language": "python",
   "name": "python3"
  },
  "language_info": {
   "codemirror_mode": {
    "name": "ipython",
    "version": 3
   },
   "file_extension": ".py",
   "mimetype": "text/x-python",
   "name": "python",
   "nbconvert_exporter": "python",
   "pygments_lexer": "ipython3",
   "version": "3.7.7"
  }
 },
 "nbformat": 4,
 "nbformat_minor": 1
}
