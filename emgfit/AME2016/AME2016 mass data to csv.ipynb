{
 "cells": [
  {
   "cell_type": "markdown",
   "metadata": {},
   "source": [
    "## Search AME2016 database\n",
    "## Import AME database as pandas dataframe"
   ]
  },
  {
   "cell_type": "code",
   "execution_count": null,
   "metadata": {},
   "outputs": [],
   "source": [
    "import numpy as np\n",
    "import pandas as pd\n",
    "import fortranformat as ff\n",
    "import matplotlib as plt\n",
    "from IPython.display import display\n",
    "%matplotlib inline"
   ]
  },
  {
   "cell_type": "markdown",
   "metadata": {},
   "source": [
    "## Create AME16 mass dataframe in appropriate formatting\n",
    "The input file 'mass16.txt' was downloaded from http://amdc.in2p3.fr/web/masseval.html and is supplemental material of the following publication: Wang, Meng, et al. \"The AME2016 atomic mass evaluation (II). Tables, graphs and references.\" Chinese Physics C 41.3 (2017): 030003.."
   ]
  },
  {
   "cell_type": "code",
   "execution_count": null,
   "metadata": {},
   "outputs": [],
   "source": [
    "df = pd.read_csv('mass16.txt',sep=\"\\t\",skiprows=38) # import data\n",
    "\n",
    "arr_AME = []\n",
    "line = ff.FortranRecordReader('a1,A3,A5,A5,A5,1x,A3,A4,1x,A13,A11,A11,A9,1x,A2,A11,A9,1x,A3,1x,A12,A11')\n",
    "for i in range(len(df)):\n",
    "    row = line.read(str(df.iloc[i].values[0])) \n",
    "    #print(i, [row])\n",
    "    arr_AME += [row]\n",
    "    #nucl = record._make(line.read(line))\n",
    "arr_AME = np.array(arr_AME) \n",
    "\n",
    "df_AME = pd.DataFrame(arr_AME)\n",
    "df_AME.columns = ['0','N-Z','N','Z','A','Element','O','ME [keV]','Error ME [keV]','BINDING ENERGY/A [keV]','Error BINDING ENERGY/A [keV]','Decay type','BETA-DECAY ENERGY [keV]','Error BETA-DECAY ENERGY [keV]','Mass_int','ATOMIC MASS [µu]','Error ATOMIC MASS [µu]']\n",
    "# remove unnecessary columns\n",
    "df_AME.drop(['0'],axis=1,inplace=True) \n",
    "df_AME.drop('Decay type', axis=1, inplace=True)\n",
    "df_AME.drop('BETA-DECAY ENERGY [keV]', axis=1, inplace=True)\n",
    "df_AME.drop('Error BETA-DECAY ENERGY [keV]', axis=1, inplace=True)\n",
    "mask = df_AME['ME [keV]'].str.contains('#') # series containing 'True' if mass excess value has a '#'\n",
    "df_AME['Extrapolated?'] = mask\n",
    "\n",
    "# Format column data\n",
    "df_AME.A = df_AME.A.astype(int)\n",
    "df_AME['N-Z'] = df_AME['N-Z'].astype(int)\n",
    "df_AME.N = df_AME.N.astype(int)\n",
    "df_AME.Z = df_AME.Z.astype(int)\n",
    "df_AME['Element'] = df_AME['Element'].str.strip()\n",
    "\n",
    "# Remove '#'s from mass data and change data types to float\n",
    "df_AME['ME [keV]'] = df_AME['ME [keV]'].str.replace('#', '').astype(float)\n",
    "df_AME['Error ME [keV]'] = df_AME['Error ME [keV]'].str.replace('#', '').astype(float)\n",
    "df_AME['BINDING ENERGY/A [keV]'] = df_AME['BINDING ENERGY/A [keV]'].str.replace('#', '').astype(float)\n",
    "df_AME['Error BINDING ENERGY/A [keV]'] = df_AME['Error BINDING ENERGY/A [keV]'].str.replace('#', '').astype(float)\n",
    "df_AME['ATOMIC MASS [µu]'] = df_AME['ATOMIC MASS [µu]'].str.replace('#', '').astype(np.float64) \n",
    "df_AME['Mass_int'] = df_AME['Mass_int'].astype(int) \n",
    "df_AME['ATOMIC MASS [µu]'] = df_AME['ATOMIC MASS [µu]'] + df_AME['Mass_int']*1e06   # calculate full mass value\n",
    "df_AME.drop(['Mass_int'],axis=1,inplace=True) \n",
    "df_AME['Error ATOMIC MASS [µu]'] = df_AME['Error ATOMIC MASS [µu]'].str.replace('#', '').astype(float)\n",
    "\n",
    "df_AME.set_index(['A'],inplace=True) # set mass number as index\n",
    "\n",
    "# Output dataframe to .csv (output files require minimal post-processing in EXCEL, see instructions below)\n",
    "#df_AME.to_csv('AME2016-mass.csv',float_format='%.5f')\n",
    "\n",
    "df_AME"
   ]
  },
  {
   "cell_type": "markdown",
   "metadata": {},
   "source": [
    "## CSV post-processing\n",
    "Import the 'AME2016-mass.csv' file outputted by this notebook into EXCEL using the 'import CSV' function. For the import choose \"Unicode (UTF-8) as data origin and deactivate automatic data type recognition. Check the resulting table for correct formatting. Remove the dynamic column handles in the first row (e.g. by simply copying only the values of all columns below to a new worksheet). \n",
    "Mark all cells and rightalign their content (optional, for better readability only). \n",
    "Delete empty worksheets. Then save this file as a CSV UTF-8 and append '-formatted' to the original filename. \n",
    "The CSV UTF8 file will be imported by emgfit.  "
   ]
  }
 ],
 "metadata": {
  "anaconda-cloud": {},
  "kernelspec": {
   "display_name": "Python 3",
   "language": "python",
   "name": "python3"
  },
  "language_info": {
   "codemirror_mode": {
    "name": "ipython",
    "version": 3
   },
   "file_extension": ".py",
   "mimetype": "text/x-python",
   "name": "python",
   "nbconvert_exporter": "python",
   "pygments_lexer": "ipython3",
   "version": "3.8.6"
  }
 },
 "nbformat": 4,
 "nbformat_minor": 1
}
